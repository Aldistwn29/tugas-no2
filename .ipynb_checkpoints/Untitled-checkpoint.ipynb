{
 "cells": [
  {
   "cell_type": "code",
   "execution_count": 1,
   "id": "60deccd0",
   "metadata": {},
   "outputs": [
    {
     "name": "stdout",
     "output_type": "stream",
     "text": [
      "Aldi setiawan\n",
      "081315512075\n"
     ]
    },
    {
     "data": {
      "text/plain": [
       "'20220040054'"
      ]
     },
     "execution_count": 1,
     "metadata": {},
     "output_type": "execute_result"
    }
   ],
   "source": [
    "#membuat komentar nama, nomer telepon, nim\n",
    "#dikarena inputnya tidak ada, maka langsung output\n",
    "#outputn nama\n",
    "print(\"Aldi setiawan\")\n",
    "#output nomer telepon\n",
    "print(\"081315512075\")\n",
    "#output nim\n",
    "(\"20220040054\")"
   ]
  },
  {
   "cell_type": "code",
   "execution_count": null,
   "id": "202110cd",
   "metadata": {},
   "outputs": [],
   "source": []
  }
 ],
 "metadata": {
  "kernelspec": {
   "display_name": "Python 3 (ipykernel)",
   "language": "python",
   "name": "python3"
  },
  "language_info": {
   "codemirror_mode": {
    "name": "ipython",
    "version": 3
   },
   "file_extension": ".py",
   "mimetype": "text/x-python",
   "name": "python",
   "nbconvert_exporter": "python",
   "pygments_lexer": "ipython3",
   "version": "3.10.4"
  }
 },
 "nbformat": 4,
 "nbformat_minor": 5
}
